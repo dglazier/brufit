{
 "cells": [
  {
   "cell_type": "markdown",
   "metadata": {},
   "source": [
    "# Generate a dataset for sPlot\n"
   ]
  },
  {
   "cell_type": "code",
   "execution_count": null,
   "metadata": {},
   "outputs": [],
   "source": [
    "import ROOT"
   ]
  },
  {
   "cell_type": "markdown",
   "metadata": {},
   "source": [
    "To generate the data we will just run a pre-existing ROOT macro\n",
    "The data consists of a discriminatory variable \n",
    "\n",
    "        Mmiss = Gaussian (Signal) Linear polynomial (Background)\n",
    "\n",
    "And 2 uncorrelated observables \n",
    "\n",
    "        M1 = Sum 2 Gaussian (Signal) Linear (Background)\n",
    "        M2 = Gaussian + Linear (Signal) Linear (Background)\n",
    "        \n",
    "An additional variable for splitting into bins for seperate fits\n",
    "\n",
    "        Eg = Uniform (Signal and Background)\n",
    "        \n",
    "An event ID branch to allow synchrosing weights with data sets\n",
    "\n",
    "        fgID = incremented by 1 for each event \n",
    "        \n",
    "        \n",
    "A Signal flag to allow plotting of true signal and background\n",
    "\n",
    "        Sig = 1 (Signal) -1 (Background)"
   ]
  },
  {
   "cell_type": "code",
   "execution_count": null,
   "metadata": {},
   "outputs": [],
   "source": [
    "ROOT.gROOT.ProcessLine(\".x Model1.C( \\\"Data.root\\\" )\") #+ => compilation"
   ]
  },
  {
   "cell_type": "markdown",
   "metadata": {},
   "source": [
    "Draw some plots with the generated signal + background data\n",
    "\n",
    "Open the file"
   ]
  },
  {
   "cell_type": "code",
   "execution_count": null,
   "metadata": {},
   "outputs": [],
   "source": [
    "rfile = ROOT.TFile.Open(\"Data.root\")\n",
    "rfile.Print()\n",
    "rfile.ls()"
   ]
  },
  {
   "cell_type": "markdown",
   "metadata": {},
   "source": [
    "Get the TTree"
   ]
  },
  {
   "cell_type": "code",
   "execution_count": null,
   "metadata": {},
   "outputs": [],
   "source": [
    "tree = rfile.Get(\"MyModel\")\n",
    "tree.Print()"
   ]
  },
  {
   "cell_type": "markdown",
   "metadata": {},
   "source": [
    "Make a TCanvas with 4 pads for drawing on"
   ]
  },
  {
   "cell_type": "code",
   "execution_count": null,
   "metadata": {},
   "outputs": [],
   "source": [
    "from ROOT import TCanvas\n",
    "canvas = TCanvas(\"genPlots\",\"genPlots\")\n",
    "canvas.Divide(2,2)"
   ]
  },
  {
   "cell_type": "markdown",
   "metadata": {},
   "source": [
    "Now draw the generated variables"
   ]
  },
  {
   "cell_type": "code",
   "execution_count": null,
   "metadata": {},
   "outputs": [],
   "source": [
    "canvas.cd(1)\n",
    "tree.Draw(\"Mmiss>>hmiss(100,0,10)\")\n",
    "canvas.cd(2)\n",
    "tree.Draw(\"M1>>hm1(100,0,10)\")\n",
    "canvas.cd(3)\n",
    "tree.Draw(\"M2>>hm2(100,0,10)\")\n",
    "canvas.cd(4)\n",
    "tree.Draw(\"Eg>>hEg(100,3,4)\")\n",
    "canvas.Draw()"
   ]
  },
  {
   "cell_type": "code",
   "execution_count": null,
   "metadata": {},
   "outputs": [],
   "source": [
    "%edit Model1.C"
   ]
  }
 ],
 "metadata": {
  "kernelspec": {
   "display_name": "Python 3",
   "language": "python",
   "name": "python3"
  },
  "language_info": {
   "codemirror_mode": {
    "name": "ipython",
    "version": 3
   },
   "file_extension": ".py",
   "mimetype": "text/x-python",
   "name": "python",
   "nbconvert_exporter": "python",
   "pygments_lexer": "ipython3",
   "version": "3.11.8"
  }
 },
 "nbformat": 4,
 "nbformat_minor": 2
}
