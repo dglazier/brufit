{
 "cells": [
  {
   "cell_type": "markdown",
   "metadata": {},
   "source": [
    "# sPlot with simple Gaussian and polynomial PDFs and splitting the data into 4 seperate fits\n",
    "\n",
    "Fit a pseudo-data missing-mass distribution to produce sWeights then use them to plot signal-weighted distributions for other variables.\n",
    "\n",
    "Here we use the `Eg` variable to split the data into 4 separate datasets and perform fits on each one using ROOT PROOF to parallise the fits. In the end, the weights are combined back into 1 for drawing the integrated distributions.\n",
    "\n",
    "Note the weights are stored in a `Weights` object which then can be loaded into other fits. [Weights.h](https://github.com/dglazier/brufit/blob/master/core/Weights.h)"
   ]
  },
  {
   "cell_type": "markdown",
   "metadata": {},
   "source": [
    "Load `brufit` using ROOT Python bindings and initialise `jsroot` for drawing histograms."
   ]
  },
  {
   "cell_type": "code",
   "execution_count": null,
   "metadata": {},
   "outputs": [],
   "source": [
    "import ROOT\n",
    "ROOT.gROOT.ProcessLine(\".x $BRUFIT/macros/LoadBru.C\")\n",
    "%jsroot"
   ]
  },
  {
   "cell_type": "markdown",
   "metadata": {},
   "source": [
    "First you will need to generate some data. This is done with a ROOT macro generating random numbers from `TF1` functions. It can be executed from the following notebook GenerateData\n",
    "Link to [Generate Data](GenerateData.ipynb)."
   ]
  },
  {
   "cell_type": "markdown",
   "metadata": {},
   "source": [
    "Create the `sPlot` fit manager and set the output directory for fit results, plots, and weights."
   ]
  },
  {
   "cell_type": "code",
   "execution_count": null,
   "metadata": {},
   "outputs": [],
   "source": [
    "splot = ROOT.sPlot()\n",
    "splot.SetUp().SetOutDir(\"outBins\")"
   ]
  },
  {
   "cell_type": "markdown",
   "metadata": {},
   "source": [
    "Define the fit variable as `Mmiss` which is the name of a branch in the tree and set the fit range to 0-10."
   ]
  },
  {
   "cell_type": "code",
   "execution_count": null,
   "metadata": {},
   "outputs": [],
   "source": [
    "splot.SetUp().LoadVariable(\"Mmiss[0,10]\")"
   ]
  },
  {
   "cell_type": "markdown",
   "metadata": {},
   "source": [
    "Set the name of the event ID variable. The input tree should have a double branch with a unique event ID number, in this case it is `fgID`."
   ]
  },
  {
   "cell_type": "code",
   "execution_count": null,
   "metadata": {},
   "outputs": [],
   "source": [
    "splot.SetUp().SetIDBranchName(\"fgID\")"
   ]
  },
  {
   "cell_type": "markdown",
   "metadata": {},
   "source": [
    "Make a signal PDF. Here we will use a Gaussian distribution with mean and width parameters `smean` (initial value 6, allowed values between 4-7) and `swidth` (initial value 0.2, allowed values between 0.0001 and 3). The PDF is given the name `Signal`.\n",
    "\n",
    "We then load it into the total fit PDF with `LoadSpeciesPDF`."
   ]
  },
  {
   "cell_type": "code",
   "execution_count": null,
   "metadata": {},
   "outputs": [],
   "source": [
    "splot.SetUp().FactoryPDF(\"Gaussian::Signal( Mmiss, smean[6,4,7], swidth[0.2,0.0001,3] )\")\n",
    "splot.SetUp().LoadSpeciesPDF(\"Signal\")"
   ]
  },
  {
   "cell_type": "markdown",
   "metadata": {},
   "source": [
    "Make a background PDF as a 2nd degree Chebychev polynomial with coefficients `a0` and `a1` (both starting at -0.1 and varying between -1 and +1). The PDF is given the name `BG`."
   ]
  },
  {
   "cell_type": "code",
   "execution_count": null,
   "metadata": {},
   "outputs": [],
   "source": [
    "splot.SetUp().FactoryPDF(\"Chebychev::BG(Mmiss,{a0[-0.1,-1,1],a1[0.1,-1,1]})\")\n",
    "splot.SetUp().LoadSpeciesPDF(\"BG\",1)"
   ]
  },
  {
   "cell_type": "markdown",
   "metadata": {},
   "source": [
    "Split the data into 4 bins based on the `Eg` variable. Note I can add any number of these splits based on different variables. You can also provide variable size bin widths `(\"Eg\",4,{3,3.1,3.3,3.7,4})` where 4 is the number of bins.\n",
    "\n",
    "In this case, after performing the individual fits, all weights will be combined into 1 file `OUTDIR/Tweights.root`.\n",
    "\n",
    "Note this line is the only difference between running split and non-split data."
   ]
  },
  {
   "cell_type": "code",
   "execution_count": null,
   "metadata": {},
   "outputs": [],
   "source": [
    "splot.Bins().LoadBinVar(\"Eg\",4,3,4)"
   ]
  },
  {
   "cell_type": "markdown",
   "metadata": {},
   "source": [
    "Load the data giving the tree name then the file name."
   ]
  },
  {
   "cell_type": "code",
   "execution_count": null,
   "metadata": {},
   "outputs": [],
   "source": [
    "dirname=ROOT.gSystem.pwd()\n",
    "splot.LoadData(\"MyModel\",dirname+\"/Data.root\")"
   ]
  },
  {
   "cell_type": "markdown",
   "metadata": {},
   "source": [
    "Run the fit with PROOF using 4 workers, this will also create the sWeights for each event. When it is finished, it will display a plot of the signal and background fit to `Mmiss` and also show the residual and pull plots between the fit and data."
   ]
  },
  {
   "cell_type": "code",
   "execution_count": null,
   "metadata": {
    "scrolled": true
   },
   "outputs": [],
   "source": [
    "ROOT.Proof.Go(splot,4)"
   ]
  },
  {
   "cell_type": "markdown",
   "metadata": {},
   "source": [
    "To see the results we have to open each results file and get the canvas."
   ]
  },
  {
   "cell_type": "code",
   "execution_count": null,
   "metadata": {},
   "outputs": [],
   "source": [
    "ls outBins"
   ]
  },
  {
   "cell_type": "markdown",
   "metadata": {},
   "source": [
    "Open the ROOT file and get the canvas showing `Mmiss`.\n",
    "\n",
    "Note, it is required to close the ROOT file after using it so as not to confuse subsequent cells."
   ]
  },
  {
   "cell_type": "code",
   "execution_count": null,
   "metadata": {},
   "outputs": [],
   "source": [
    "from ROOT import TFile\n",
    "fileEg1=TFile.Open(\"outBins/Eg3.12_/ResultsHSMinuit2.root\")\n",
    "fileEg1.ls()\n",
    "fileEg1.Get(\"Eg3.12__Mmiss\").Draw()\n",
    "fileEg1.Close()"
   ]
  },
  {
   "cell_type": "markdown",
   "metadata": {},
   "source": [
    "Now we will draw the resulting weighted distributions. First create canvases for drawing on."
   ]
  },
  {
   "cell_type": "code",
   "execution_count": null,
   "metadata": {},
   "outputs": [],
   "source": [
    "from ROOT import TCanvas\n",
    "canvas = TCanvas(\"WeightedPlots\",\"WeightedPlots\")\n",
    "canvas.Divide(2,2)"
   ]
  },
  {
   "cell_type": "markdown",
   "metadata": {},
   "source": [
    "Now get the truth tree so we can compare true to weighted distributions."
   ]
  },
  {
   "cell_type": "code",
   "execution_count": null,
   "metadata": {},
   "outputs": [],
   "source": [
    "fileTree = ROOT.FiledTree.Read(\"MyModel\",\"Data.root\")\n",
    "trueTree = fileTree.Tree()"
   ]
  },
  {
   "cell_type": "markdown",
   "metadata": {},
   "source": [
    "And draw the weighted distributions using `sPlot::DrawWeighted`. The first string takes standard ROOT `TTree::Draw` arguments. The second is the name of the PDF corresponding to the species you want to draw.\n",
    "\n",
    "In this case the histograms integrate over the binned variable `Eg`, using the weights from the 4 different fits.\n",
    "\n",
    "`trueTree` is just a normal ROOT TTree.\n",
    "\n",
    "The plots will appear when `canvas.Draw()` is called, which is in the following cell after the background histograms have been created. The weighted distributions will be red points with error bars, the true distributions will be blue solid-line histograms."
   ]
  },
  {
   "cell_type": "code",
   "execution_count": null,
   "metadata": {},
   "outputs": [],
   "source": [
    "canvas.cd(1)\n",
    "splot.DrawWeighted(\"M1>>hM1(100,0,10)\",\"Signal\")\n",
    "ROOT.gDirectory.Get(\"hM1\").SetLineColor(ROOT.kRed + 1)\n",
    "trueTree.Draw(\"M1\",\"Sig==1\",\"same hist\")\n",
    "canvas.cd(2)\n",
    "splot.DrawWeighted(\"M2>>hM2(100,0,10)\",\"Signal\")\n",
    "ROOT.gDirectory.Get(\"hM2\").SetLineColor(ROOT.kRed + 1)\n",
    "trueTree.Draw(\"M2\",\"Sig==1\",\"same hist\")"
   ]
  },
  {
   "cell_type": "markdown",
   "metadata": {},
   "source": [
    "Now the same for our background weighted distributions."
   ]
  },
  {
   "cell_type": "code",
   "execution_count": null,
   "metadata": {},
   "outputs": [],
   "source": [
    "canvas.cd(3)\n",
    "splot.DrawWeighted(\"M1>>hM1_BG(100,0,10)\",\"BG\")\n",
    "ROOT.gDirectory.Get(\"hM1_BG\").SetLineColor(ROOT.kRed + 1)\n",
    "trueTree.Draw(\"M1\",\"Sig==-1\",\"same hist\")\n",
    "canvas.cd(4)\n",
    "splot.DrawWeighted(\"M2>>hM2_BG(100,0,10)\",\"BG\")\n",
    "ROOT.gDirectory.Get(\"hM2_BG\").SetLineColor(ROOT.kRed + 1)\n",
    "trueTree.Draw(\"M2\",\"Sig==-1\",\"same hist\")\n",
    "canvas.Draw()"
   ]
  },
  {
   "cell_type": "markdown",
   "metadata": {},
   "source": [
    "If you want to save the weighted tree with all branches including weights you need to use the following line:"
   ]
  },
  {
   "cell_type": "code",
   "execution_count": null,
   "metadata": {},
   "outputs": [],
   "source": [
    "splot.DeleteWeightedTree()"
   ]
  }
 ],
 "metadata": {
  "kernelspec": {
   "display_name": "Python 3",
   "language": "python",
   "name": "python3"
  },
  "language_info": {
   "codemirror_mode": {
    "name": "ipython",
    "version": 3
   },
   "file_extension": ".py",
   "mimetype": "text/x-python",
   "name": "python",
   "nbconvert_exporter": "python",
   "pygments_lexer": "ipython3",
   "version": "3.11.8"
  }
 },
 "nbformat": 4,
 "nbformat_minor": 2
}
